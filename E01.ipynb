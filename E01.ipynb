{
 "cells": [
  {
   "cell_type": "markdown",
   "metadata": {},
   "source": [
    "#### 1. 利用动态数组解决数据存放问题\n",
    "\n",
    "#### 编写一段代码，要求输入一个整数N，用动态数组A来存放2~N之间所有5或7的倍数，输出该数组。\n",
    "\n",
    "#### 示例：\n",
    "\n",
    "#### 输入：\n",
    "#### N = 100 \n",
    "\n",
    "#### 输出：\n",
    "#### 5 7 10 14 15 20 21 25 28 30 35 40 42 45 49 50 55 56 60 63 65 70 75 77 80 84 85 90 91 95 98 100"
   ]
  },
  {
   "cell_type": "code",
   "execution_count": 4,
   "metadata": {},
   "outputs": [
    {
     "name": "stdout",
     "output_type": "stream",
     "text": [
      "N=100\n",
      "[5, 7, 10, 14, 15, 20, 21, 25, 28, 30, 35, 40, 42, 45, 49, 50, 55, 56, 60, 63, 65, 70, 75, 77, 80, 84, 85, 90, 91, 95, 98, 100]\n"
     ]
    }
   ],
   "source": [
    "N=int(input(\"N=\"))\n",
    "A=[]\n",
    "for i in range(N):\n",
    "    j=i+1\n",
    "    if j%5==0:\n",
    "        A.append(j)\n",
    "    elif j%7==0:\n",
    "        A.append(j)\n",
    "print(A)"
   ]
  },
  {
   "cell_type": "markdown",
   "metadata": {},
   "source": [
    "#### 2. 托普利茨矩阵问题\n",
    "\n",
    "#### https://leetcode-cn.com/problems/toeplitz-matrix/\n",
    "\n",
    "#### 如果一个矩阵的每一方向由左上到右下的对角线上具有相同元素，那么这个矩阵是托普利茨矩阵。\n",
    "\n",
    "#### 给定一个M x N的矩阵，当且仅当它是托普利茨矩阵时返回True。\n",
    "\n",
    "#### 示例1：\n",
    "\n",
    "#### 输入:\n",
    "#### matrix = [\n",
    "####   [1,2,3,4],\n",
    "####   [5,1,2,3],\n",
    "####   [9,5,1,2]\n",
    "#### ]\n",
    "#### 输出: True\n",
    "#### 解释:\n",
    "#### 在上述矩阵中, 其对角线为:\n",
    "#### \"[9]\", \"[5, 5]\", \"[1, 1, 1]\", \"[2, 2, 2]\", \"[3, 3]\", \"[4]\"。\n",
    "#### 各条对角线上的所有元素均相同, 因此答案是`True`。\n",
    "\n",
    "#### 示例2：\n",
    "\n",
    "#### 输入:\n",
    "#### matrix = [\n",
    "####   [1,2],\n",
    "####   [2,2]\n",
    "#### ]\n",
    "#### 输出: False\n",
    "#### 解释: \n",
    "#### 对角线\"[1, 2]\"上的元素不同。\n",
    "\n",
    "#### 说明:\n",
    "\n",
    "####     matrix 是一个包含整数的二维数组。\n",
    "####     matrix 的行数和列数均在 [1, 20]范围内。\n",
    "####     matrix[i][j] 包含的整数在 [0, 99]范围内。\n",
    "\n",
    "#### 进阶:\n",
    "\n",
    "####     如果矩阵存储在磁盘上，并且磁盘内存是有限的，因此一次最多只能将一行矩阵加载到内存中，该怎么办？\n",
    "####     如果矩阵太大以至于只能一次将部分行加载到内存中，该怎么办？\n"
   ]
  },
  {
   "cell_type": "code",
   "execution_count": 2,
   "metadata": {},
   "outputs": [],
   "source": [
    "import numpy as np"
   ]
  },
  {
   "cell_type": "code",
   "execution_count": 5,
   "metadata": {
    "scrolled": false
   },
   "outputs": [
    {
     "name": "stdout",
     "output_type": "stream",
     "text": [
      ">>[   [1,2,3,4],   [5,1,2,3],   [9,5,1,2] ]\n",
      "rows=3,clms=4\n",
      "9\n",
      "\n",
      "5-- 5\n",
      "\n",
      "1-- 1-- 1\n",
      "\n",
      "2-- 2-- 2\n",
      "\n",
      "3-- 3\n",
      "\n",
      "4\n",
      "\n",
      "True\n"
     ]
    }
   ],
   "source": [
    "# [   [1,2,3,4],   [5,1,2,3],   [9,5,1,2] ]\n",
    "#  [[1,2],[2,2]]\n",
    "\n",
    "matrix = input(\">>\")\n",
    "matrix = eval(matrix)\n",
    "rows=np.shape(matrix)[0]\n",
    "clms=np.shape(matrix)[1]\n",
    "\n",
    "print(\"rows={0},clms={1}\".format(rows,clms))#打印矩阵行数和列数\n",
    "\n",
    "flag=True\n",
    "for i in range(rows-1,-1,-1):\n",
    "    e=matrix[i][0]\n",
    "    print(e,end='')\n",
    "    \n",
    "    j=i+1\n",
    "    k=1\n",
    "    while (j<=rows-1)&(k<=clms-1):\n",
    "        print('--',matrix[j][k],end='')\n",
    "        if e!=matrix[j][k]:\n",
    "            flag=False\n",
    "            break\n",
    "        j=j+1\n",
    "        k=k+1\n",
    "    print(\"\\n\")\n",
    "    if flag==False:\n",
    "        break\n",
    "\n",
    "# 矩阵首列判断结束\n",
    "\n",
    "if flag:\n",
    "    for i in range(1,clms):\n",
    "        #print(i)\n",
    "        e=matrix[0][i]\n",
    "        print(e,end='')\n",
    "        \n",
    "        j=1\n",
    "        k=i+1\n",
    "        while (j<=rows-1)&(k<=clms-1):\n",
    "            print('--',matrix[j][k],end='')\n",
    "            if e!=matrix[j][k]:\n",
    "                flag=False\n",
    "                break\n",
    "            j=j+1\n",
    "            k=k+1\n",
    "        print(\"\\n\")\n",
    "        if flag==False:\n",
    "            break\n",
    "print(flag)"
   ]
  },
  {
   "cell_type": "markdown",
   "metadata": {},
   "source": [
    "#### 3. 三数之和\n",
    "\n",
    "#### https://leetcode-cn.com/problems/3sum/\n",
    "\n",
    "#### 给定一个包含 n 个整数的数组nums，判断nums中是否存在三个元素a，b，c，使得a + b + c = 0？找出所有满足条件且不重复的三元组。\n",
    "\n",
    "#### 注意：答案中不可以包含重复的三元组。\n",
    "\n",
    "#### 示例：\n",
    "\n",
    "#### 给定数组 nums = [-1, 0, 1, 2, -1, -4]，\n",
    "\n",
    "#### 满足要求的三元组集合为：\n",
    "#### [\n",
    "####   [-1, 0, 1],\n",
    "####   [-1, -1, 2]\n",
    "#### ]"
   ]
  },
  {
   "cell_type": "code",
   "execution_count": 52,
   "metadata": {},
   "outputs": [
    {
     "name": "stdout",
     "output_type": "stream",
     "text": [
      "-1 0 1\n",
      "-1 2 -1\n",
      "0 1 -1\n",
      "6\n",
      "answer is: [[-1, 0, 1], [-1, -1, 2]]\n"
     ]
    }
   ],
   "source": [
    "nums = [-1, 0, 1, 2, -1, -4]\n",
    "l=len(nums)\n",
    "arr=[]\n",
    "for i in range(l-2):\n",
    "    for j in range(i+1,l-1):\n",
    "        for k in range(j+1,l):\n",
    "            if(nums[i]+nums[j]+nums[k]==0):\n",
    "                print(nums[i],nums[j],nums[k])\n",
    "                tmp=sorted([nums[i],nums[j],nums[k]])\n",
    "                if tmp not in arr:\n",
    "                    arr.append(tmp)\n",
    "print(len(nums))\n",
    "print(\"answer is:\",arr)"
   ]
  }
 ],
 "metadata": {
  "kernelspec": {
   "display_name": "Python 3",
   "language": "python",
   "name": "python3"
  },
  "language_info": {
   "codemirror_mode": {
    "name": "ipython",
    "version": 3
   },
   "file_extension": ".py",
   "mimetype": "text/x-python",
   "name": "python",
   "nbconvert_exporter": "python",
   "pygments_lexer": "ipython3",
   "version": "3.7.3"
  }
 },
 "nbformat": 4,
 "nbformat_minor": 2
}
